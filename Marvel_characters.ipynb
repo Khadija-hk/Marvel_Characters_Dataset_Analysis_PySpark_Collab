{
  "nbformat": 4,
  "nbformat_minor": 0,
  "metadata": {
    "colab": {
      "provenance": []
    },
    "kernelspec": {
      "name": "python3",
      "display_name": "Python 3"
    },
    "language_info": {
      "name": "python"
    }
  },
  "cells": [
    {
      "cell_type": "code",
      "execution_count": 1,
      "metadata": {
        "colab": {
          "base_uri": "https://localhost:8080/"
        },
        "id": "h8EW6EQ4xExf",
        "outputId": "787745cd-1da2-4248-e422-5a7465303d88"
      },
      "outputs": [
        {
          "output_type": "stream",
          "name": "stdout",
          "text": [
            "Collecting pyspark\n",
            "  Downloading pyspark-3.5.1.tar.gz (317.0 MB)\n",
            "\u001b[2K     \u001b[90m━━━━━━━━━━━━━━━━━━━━━━━━━━━━━━━━━━━━━━━━\u001b[0m \u001b[32m317.0/317.0 MB\u001b[0m \u001b[31m2.0 MB/s\u001b[0m eta \u001b[36m0:00:00\u001b[0m\n",
            "\u001b[?25h  Preparing metadata (setup.py) ... \u001b[?25l\u001b[?25hdone\n",
            "Requirement already satisfied: py4j==0.10.9.7 in /usr/local/lib/python3.10/dist-packages (from pyspark) (0.10.9.7)\n",
            "Building wheels for collected packages: pyspark\n",
            "  Building wheel for pyspark (setup.py) ... \u001b[?25l\u001b[?25hdone\n",
            "  Created wheel for pyspark: filename=pyspark-3.5.1-py2.py3-none-any.whl size=317488491 sha256=6280f24488e53156e8fa713aaae437c93e90802d6b91eb564749a980136de795\n",
            "  Stored in directory: /root/.cache/pip/wheels/80/1d/60/2c256ed38dddce2fdd93be545214a63e02fbd8d74fb0b7f3a6\n",
            "Successfully built pyspark\n",
            "Installing collected packages: pyspark\n",
            "Successfully installed pyspark-3.5.1\n"
          ]
        }
      ],
      "source": [
        "!pip install pyspark"
      ]
    },
    {
      "cell_type": "code",
      "source": [
        "import matplotlib.pyplot as plt\n"
      ],
      "metadata": {
        "id": "6pBuEIl8-CaX"
      },
      "execution_count": 2,
      "outputs": []
    },
    {
      "cell_type": "code",
      "source": [
        "import pyspark\n",
        "from pyspark.sql.types import StructType, StructField, StringType, IntegerType, FloatType, DoubleType\n",
        "from pyspark.sql.functions import isnan, when, count, col\n",
        "from pyspark.sql.functions import count,lit\n",
        "from pyspark.sql import functions as F\n",
        "from pyspark.sql.functions import max, min"
      ],
      "metadata": {
        "id": "Cgsde3iPxpVS"
      },
      "execution_count": 29,
      "outputs": []
    },
    {
      "cell_type": "code",
      "source": [
        "#Spark SQL -> create a spark session\n",
        "spark = pyspark.sql.SparkSession.builder.getOrCreate()"
      ],
      "metadata": {
        "id": "UJKDo-MQx1tr"
      },
      "execution_count": 4,
      "outputs": []
    },
    {
      "cell_type": "code",
      "source": [
        "# Read the CSV\n",
        "df = spark.read.csv(\"/content/charcters_stats.csv\", header = True, inferSchema = True)\n",
        "df.show()"
      ],
      "metadata": {
        "colab": {
          "base_uri": "https://localhost:8080/"
        },
        "id": "XX5DT80qyTFk",
        "outputId": "67863875-aac6-4957-921d-82aea53f6af7"
      },
      "execution_count": 6,
      "outputs": [
        {
          "output_type": "stream",
          "name": "stdout",
          "text": [
            "+-----------------+---------+------------+--------+-----+----------+-----+------+-----+\n",
            "|             Name|Alignment|Intelligence|Strength|Speed|Durability|Power|Combat|Total|\n",
            "+-----------------+---------+------------+--------+-----+----------+-----+------+-----+\n",
            "|          3-D Man|     good|          50|      31|   43|        32|   25|    52|  233|\n",
            "|           A-Bomb|     good|          38|     100|   17|        80|   17|    64|  316|\n",
            "|       Abe Sapien|     good|          88|      14|   35|        42|   35|    85|  299|\n",
            "|         Abin Sur|     good|          50|      90|   53|        64|   84|    65|  406|\n",
            "|      Abomination|      bad|          63|      80|   53|        90|   55|    95|  436|\n",
            "|          Abraxas|      bad|          88|     100|   83|        99|  100|    56|  526|\n",
            "|      Adam Monroe|     good|          63|      10|   12|       100|   71|    64|  320|\n",
            "|     Adam Strange|     good|           1|       1|    1|         1|    0|     1|    5|\n",
            "|        Agent  13|     good|           1|       1|    1|         1|    0|     1|    5|\n",
            "|        Agent Bob|     good|          10|       8|   13|         5|    5|    20|   61|\n",
            "|       Agent Zero|     good|          75|      28|   38|        80|   72|    95|  388|\n",
            "|       Air-Walker|      bad|          50|      85|  100|        85|  100|    40|  460|\n",
            "|       Alan Scott|     good|          63|      80|   23|        90|   98|    32|  386|\n",
            "|     Alex Woolsly|     good|           1|       1|    1|         1|    0|     1|    5|\n",
            "|Alfred Pennyworth|     good|          63|      10|   17|        10|    7|    55|  162|\n",
            "| Allan Quatermain|     good|           1|       1|    1|         1|    0|     1|    5|\n",
            "|            Amazo|      bad|          75|     100|  100|       100|  100|   100|  575|\n",
            "|             Ammo|      bad|           1|       1|    1|         1|    0|     1|    5|\n",
            "|   Ando Masahashi|     good|           1|       1|    1|         1|    0|     1|    5|\n",
            "|            Angel|     good|          63|      13|   46|        64|   17|    42|  245|\n",
            "+-----------------+---------+------------+--------+-----+----------+-----+------+-----+\n",
            "only showing top 20 rows\n",
            "\n"
          ]
        }
      ]
    },
    {
      "cell_type": "code",
      "source": [
        "# reading the first record\n",
        "print(df.first())"
      ],
      "metadata": {
        "colab": {
          "base_uri": "https://localhost:8080/"
        },
        "id": "-AkHZDa1yxaG",
        "outputId": "b323b3c1-2d03-4cde-feb5-e4c63e2633f8"
      },
      "execution_count": 7,
      "outputs": [
        {
          "output_type": "stream",
          "name": "stdout",
          "text": [
            "Row(Name='3-D Man', Alignment='good', Intelligence=50, Strength=31, Speed=43, Durability=32, Power=25, Combat=52, Total=233)\n"
          ]
        }
      ]
    },
    {
      "cell_type": "code",
      "source": [
        "# number of rows and columns\n",
        "print(f\"The number of rows are: {df.count()}\")\n",
        "print(f\"The number of columns are: {len(df.columns)}\")"
      ],
      "metadata": {
        "colab": {
          "base_uri": "https://localhost:8080/"
        },
        "id": "iCsoB8eOy6GR",
        "outputId": "64def1d1-6136-4485-ef3c-3902623df640"
      },
      "execution_count": 8,
      "outputs": [
        {
          "output_type": "stream",
          "name": "stdout",
          "text": [
            "The number of rows are: 611\n",
            "The number of columns are: 9\n"
          ]
        }
      ]
    },
    {
      "cell_type": "code",
      "source": [
        "#Number of characters fall under each alignment\n",
        "characters_align = df.groupby('Alignment')\\\n",
        "                      .agg({'Name':'count'}).alias(\"Number of Characters\")\\\n",
        "                      .filter(col('Alignment').isNotNull())\n",
        "\n",
        "characters_align.show()"
      ],
      "metadata": {
        "colab": {
          "base_uri": "https://localhost:8080/"
        },
        "id": "BKxqLe_J0m2v",
        "outputId": "3e5dc90f-c566-4cf1-fc0a-c976db8017b5"
      },
      "execution_count": 9,
      "outputs": [
        {
          "output_type": "stream",
          "name": "stdout",
          "text": [
            "+---------+-----------+\n",
            "|Alignment|count(Name)|\n",
            "+---------+-----------+\n",
            "|  neutral|         11|\n",
            "|      bad|        165|\n",
            "|     good|        432|\n",
            "+---------+-----------+\n",
            "\n"
          ]
        }
      ]
    },
    {
      "cell_type": "code",
      "source": [
        "#Finding the good alignment characters\n",
        "good_charac = df.where(\"Alignment == 'good'\")\n",
        "\n",
        "good_charac.show()"
      ],
      "metadata": {
        "colab": {
          "base_uri": "https://localhost:8080/"
        },
        "id": "A3N-SBcN1uzG",
        "outputId": "44fb3735-4d77-4a76-8052-f90a9ab7a8e5"
      },
      "execution_count": 10,
      "outputs": [
        {
          "output_type": "stream",
          "name": "stdout",
          "text": [
            "+-----------------+---------+------------+--------+-----+----------+-----+------+-----+\n",
            "|             Name|Alignment|Intelligence|Strength|Speed|Durability|Power|Combat|Total|\n",
            "+-----------------+---------+------------+--------+-----+----------+-----+------+-----+\n",
            "|          3-D Man|     good|          50|      31|   43|        32|   25|    52|  233|\n",
            "|           A-Bomb|     good|          38|     100|   17|        80|   17|    64|  316|\n",
            "|       Abe Sapien|     good|          88|      14|   35|        42|   35|    85|  299|\n",
            "|         Abin Sur|     good|          50|      90|   53|        64|   84|    65|  406|\n",
            "|      Adam Monroe|     good|          63|      10|   12|       100|   71|    64|  320|\n",
            "|     Adam Strange|     good|           1|       1|    1|         1|    0|     1|    5|\n",
            "|        Agent  13|     good|           1|       1|    1|         1|    0|     1|    5|\n",
            "|        Agent Bob|     good|          10|       8|   13|         5|    5|    20|   61|\n",
            "|       Agent Zero|     good|          75|      28|   38|        80|   72|    95|  388|\n",
            "|       Alan Scott|     good|          63|      80|   23|        90|   98|    32|  386|\n",
            "|     Alex Woolsly|     good|           1|       1|    1|         1|    0|     1|    5|\n",
            "|Alfred Pennyworth|     good|          63|      10|   17|        10|    7|    55|  162|\n",
            "| Allan Quatermain|     good|           1|       1|    1|         1|    0|     1|    5|\n",
            "|   Ando Masahashi|     good|           1|       1|    1|         1|    0|     1|    5|\n",
            "|            Angel|     good|          63|      13|   46|        64|   17|    42|  245|\n",
            "|  Angel Salvadore|     good|          38|      10|   28|        28|   46|    60|  210|\n",
            "|       Animal Man|     good|          56|      48|   47|        85|   73|    80|  389|\n",
            "|          Ant-Man|     good|         100|      10|   23|        28|   32|    32|  225|\n",
            "|       Ant-Man II|     good|          63|      10|   23|        28|   32|    28|  184|\n",
            "|         Aquababy|     good|          10|      16|   12|        14|   37|    14|  103|\n",
            "+-----------------+---------+------------+--------+-----+----------+-----+------+-----+\n",
            "only showing top 20 rows\n",
            "\n"
          ]
        }
      ]
    },
    {
      "cell_type": "code",
      "source": [
        "#Showing first 5 records\n",
        "good_charac.limit(5).show()\n"
      ],
      "metadata": {
        "colab": {
          "base_uri": "https://localhost:8080/"
        },
        "id": "EE80tji-2kVR",
        "outputId": "efee3e3e-c853-4768-f22a-076c16422a5c"
      },
      "execution_count": 11,
      "outputs": [
        {
          "output_type": "stream",
          "name": "stdout",
          "text": [
            "+-----------+---------+------------+--------+-----+----------+-----+------+-----+\n",
            "|       Name|Alignment|Intelligence|Strength|Speed|Durability|Power|Combat|Total|\n",
            "+-----------+---------+------------+--------+-----+----------+-----+------+-----+\n",
            "|    3-D Man|     good|          50|      31|   43|        32|   25|    52|  233|\n",
            "|     A-Bomb|     good|          38|     100|   17|        80|   17|    64|  316|\n",
            "| Abe Sapien|     good|          88|      14|   35|        42|   35|    85|  299|\n",
            "|   Abin Sur|     good|          50|      90|   53|        64|   84|    65|  406|\n",
            "|Adam Monroe|     good|          63|      10|   12|       100|   71|    64|  320|\n",
            "+-----------+---------+------------+--------+-----+----------+-----+------+-----+\n",
            "\n"
          ]
        }
      ]
    },
    {
      "cell_type": "code",
      "source": [
        "#Select the top five heroes with the highest speed who have a good alignment\n",
        "\n",
        "top5_high_speed = good_charac.orderBy('Speed', ascending = False)\\\n",
        "                              .limit(5)\n",
        "\n",
        "top5_high_speed.show()"
      ],
      "metadata": {
        "colab": {
          "base_uri": "https://localhost:8080/"
        },
        "id": "ZiCGkeYr3NCV",
        "outputId": "b9c6551d-54bc-4987-ff2c-2a28507806c9"
      },
      "execution_count": 12,
      "outputs": [
        {
          "output_type": "stream",
          "name": "stdout",
          "text": [
            "+----------+---------+------------+--------+-----+----------+-----+------+-----+\n",
            "|      Name|Alignment|Intelligence|Strength|Speed|Durability|Power|Combat|Total|\n",
            "+----------+---------+------------+--------+-----+----------+-----+------+-----+\n",
            "|   Flash I|     good|          63|      10|  100|        50|   57|    32|  312|\n",
            "|  Flash II|     good|          63|      10|  100|        60|   66|    32|  331|\n",
            "|  Flash IV|     good|          63|      10|  100|        32|   59|    48|  312|\n",
            "| Flash III|     good|          63|      10|  100|        60|   83|    32|  348|\n",
            "|Black Bolt|     good|          75|      67|  100|        84|  100|    56|  482|\n",
            "+----------+---------+------------+--------+-----+----------+-----+------+-----+\n",
            "\n"
          ]
        }
      ]
    },
    {
      "cell_type": "code",
      "source": [
        "#Select five heroes with maximum power who have a good alignment\n",
        "top5_high_power = good_charac.orderBy('Power', ascending = False)\\\n",
        "                              .limit(5)\n",
        "\n",
        "top5_high_power.show()"
      ],
      "metadata": {
        "colab": {
          "base_uri": "https://localhost:8080/"
        },
        "id": "tfOlWPR_5X5L",
        "outputId": "799679bd-a2fa-4593-9850-fa4209f433da"
      },
      "execution_count": 13,
      "outputs": [
        {
          "output_type": "stream",
          "name": "stdout",
          "text": [
            "+--------------+---------+------------+--------+-----+----------+-----+------+-----+\n",
            "|          Name|Alignment|Intelligence|Strength|Speed|Durability|Power|Combat|Total|\n",
            "+--------------+---------+------------+--------+-----+----------+-----+------+-----+\n",
            "|       Deadman|     good|          50|      10|   33|       100|  100|    42|  335|\n",
            "|     Firestorm|     good|          50|      53|   58|        56|  100|    42|  359|\n",
            "|   Doctor Fate|     good|          81|      16|   25|        80|  100|    50|  352|\n",
            "|         Cable|     good|          88|      48|   23|        56|  100|    80|  395|\n",
            "|Doctor Strange|     good|         100|      10|   12|        84|  100|    60|  366|\n",
            "+--------------+---------+------------+--------+-----+----------+-----+------+-----+\n",
            "\n"
          ]
        }
      ]
    },
    {
      "cell_type": "code",
      "source": [
        "#Find out how many superheroes there are with power of 100 with good alignment\n",
        "\n",
        "power_100 = good_charac.where(\"Power == 100\")\n",
        "print(power_100.count())"
      ],
      "metadata": {
        "colab": {
          "base_uri": "https://localhost:8080/"
        },
        "id": "LDE6mTn48vX1",
        "outputId": "86a84d1a-a9fc-485e-b0dd-e902bbc93a27"
      },
      "execution_count": 14,
      "outputs": [
        {
          "output_type": "stream",
          "name": "stdout",
          "text": [
            "33\n"
          ]
        }
      ]
    },
    {
      "cell_type": "code",
      "source": [
        "#Display the record of the previous question\n",
        "power_100.show()"
      ],
      "metadata": {
        "colab": {
          "base_uri": "https://localhost:8080/"
        },
        "id": "zdEJ4rUi9H7L",
        "outputId": "4dbc2596-8af9-47b1-ee18-60a664d0e09f"
      },
      "execution_count": 15,
      "outputs": [
        {
          "output_type": "stream",
          "name": "stdout",
          "text": [
            "+-----------------+---------+------------+--------+-----+----------+-----+------+-----+\n",
            "|             Name|Alignment|Intelligence|Strength|Speed|Durability|Power|Combat|Total|\n",
            "+-----------------+---------+------------+--------+-----+----------+-----+------+-----+\n",
            "|    Beta Ray Bill|     good|          63|      80|   35|        95|  100|    84|  457|\n",
            "|         Beyonder|     good|          88|     100|   23|       100|  100|    56|  467|\n",
            "|       Black Bolt|     good|          75|      67|  100|        84|  100|    56|  482|\n",
            "|            Cable|     good|          88|      48|   23|        56|  100|    80|  395|\n",
            "|          Deadman|     good|          50|      10|   33|       100|  100|    42|  335|\n",
            "|      Doctor Fate|     good|          81|      16|   25|        80|  100|    50|  352|\n",
            "|   Doctor Strange|     good|         100|      10|   12|        84|  100|    60|  366|\n",
            "|     Dr Manhattan|     good|          88|      32|   42|        95|  100|    42|  399|\n",
            "|        Firestorm|     good|          50|      53|   58|        56|  100|    42|  359|\n",
            "|             Goku|     good|          56|     100|   75|        90|  100|   100|  521|\n",
            "|       Hal Jordan|     good|          63|      90|   53|        64|  100|    56|  426|\n",
            "|           Iceman|     good|          63|      32|   53|       100|  100|    64|  412|\n",
            "|         Iron Man|     good|         100|      85|   58|        85|  100|    64|  492|\n",
            "|        Jean Grey|     good|         100|      80|   67|       100|  100|    70|  517|\n",
            "|          Kilowog|     good|          81|      90|   53|        42|  100|    80|  446|\n",
            "|Martian Manhunter|     good|         100|     100|   96|       100|  100|    85|  581|\n",
            "|      Marvel Girl|     good|          63|      85|   47|        42|  100|    80|  417|\n",
            "|     Miss Martian|     good|          63|      85|   58|       100|  100|    45|  451|\n",
            "|   Naruto Uzumaki|     good|          50|      80|   32|        80|  100|   100|  442|\n",
            "|             Nova|     good|         100|      85|   67|       101|  100|    85|  538|\n",
            "+-----------------+---------+------------+--------+-----+----------+-----+------+-----+\n",
            "only showing top 20 rows\n",
            "\n"
          ]
        }
      ]
    },
    {
      "cell_type": "code",
      "source": [
        "#first 5 records\n",
        "power_100.limit(5).show()"
      ],
      "metadata": {
        "colab": {
          "base_uri": "https://localhost:8080/"
        },
        "id": "9rVsSgNz9Z-v",
        "outputId": "ae3c7707-3ee4-42ae-80e1-6fab711b1d06"
      },
      "execution_count": 16,
      "outputs": [
        {
          "output_type": "stream",
          "name": "stdout",
          "text": [
            "+-------------+---------+------------+--------+-----+----------+-----+------+-----+\n",
            "|         Name|Alignment|Intelligence|Strength|Speed|Durability|Power|Combat|Total|\n",
            "+-------------+---------+------------+--------+-----+----------+-----+------+-----+\n",
            "|Beta Ray Bill|     good|          63|      80|   35|        95|  100|    84|  457|\n",
            "|     Beyonder|     good|          88|     100|   23|       100|  100|    56|  467|\n",
            "|   Black Bolt|     good|          75|      67|  100|        84|  100|    56|  482|\n",
            "|        Cable|     good|          88|      48|   23|        56|  100|    80|  395|\n",
            "|      Deadman|     good|          50|      10|   33|       100|  100|    42|  335|\n",
            "+-------------+---------+------------+--------+-----+----------+-----+------+-----+\n",
            "\n"
          ]
        }
      ]
    },
    {
      "cell_type": "code",
      "source": [
        "'''\n",
        "Draw a bar plot of all superheroes who are having good alignment\n",
        "and a max power of the top five heroes only , take the same object of point 13,\n",
        "show name and total in plot with green bars '''\n",
        "\n",
        "df1 = good_charac.limit(5)\n",
        "x_val = df1.select(\"Name\").rdd.flatMap(lambda x: x).collect()\n",
        "y_val = df1.select(\"Power\").rdd.flatMap(lambda x: x).collect()\n",
        "plt.bar(x_val, y_val, color = 'green')\n",
        "\n",
        "plt.title('Top 5 good heores with Power')\n",
        "plt.xlabel('Name')\n",
        "plt.ylabel('Power')\n",
        "\n",
        "plt.show()\n"
      ],
      "metadata": {
        "colab": {
          "base_uri": "https://localhost:8080/",
          "height": 472
        },
        "id": "89b9anfO9lUe",
        "outputId": "fb4e0a5c-2395-48bd-98e8-cd69e883a754"
      },
      "execution_count": 17,
      "outputs": [
        {
          "output_type": "display_data",
          "data": {
            "text/plain": [
              "<Figure size 640x480 with 1 Axes>"
            ],
            "image/png": "[encoded data removed]"
          },
          "metadata": {}
        }
      ]
    },
    {
      "cell_type": "code",
      "source": [
        "#Extract villains who having a bad alignment\n",
        "villains = df.where(\"Alignment == 'bad'\")\n",
        "villains.show()"
      ],
      "metadata": {
        "colab": {
          "base_uri": "https://localhost:8080/"
        },
        "id": "uAGxyZvVAMe_",
        "outputId": "7213627b-502b-4f2d-ac2e-195d2c4357d4"
      },
      "execution_count": 18,
      "outputs": [
        {
          "output_type": "stream",
          "name": "stdout",
          "text": [
            "+-------------+---------+------------+--------+-----+----------+-----+------+-----+\n",
            "|         Name|Alignment|Intelligence|Strength|Speed|Durability|Power|Combat|Total|\n",
            "+-------------+---------+------------+--------+-----+----------+-----+------+-----+\n",
            "|  Abomination|      bad|          63|      80|   53|        90|   55|    95|  436|\n",
            "|      Abraxas|      bad|          88|     100|   83|        99|  100|    56|  526|\n",
            "|   Air-Walker|      bad|          50|      85|  100|        85|  100|    40|  460|\n",
            "|        Amazo|      bad|          75|     100|  100|       100|  100|   100|  575|\n",
            "|         Ammo|      bad|           1|       1|    1|         1|    0|     1|    5|\n",
            "|       Angela|      bad|           1|       1|    1|         1|    0|     1|    5|\n",
            "|    Annihilus|      bad|          75|      80|   47|        56|   59|    64|  381|\n",
            "| Anti-Monitor|      bad|          88|      90|   38|        90|  100|    90|  496|\n",
            "|   Anti-Spawn|      bad|           1|       1|    1|         1|    0|     1|    5|\n",
            "|   Apocalypse|      bad|         100|     100|   33|       100|  100|    60|  493|\n",
            "|     Arclight|      bad|          38|      63|   23|        42|   52|    70|  288|\n",
            "|       Azazel|      bad|          50|      11|   47|        95|   87|    80|  370|\n",
            "|         Bane|      bad|          88|      53|   23|        56|   51|    95|  366|\n",
            "|       Beetle|      bad|           1|       1|    1|         1|    0|     1|    5|\n",
            "|      Big Man|      bad|          75|      12|   23|        28|   19|    70|  227|\n",
            "|Billy Kincaid|      bad|           1|       1|    1|         1|    0|     1|    5|\n",
            "|     Bird-Man|      bad|           1|       1|    1|         1|    0|     1|    5|\n",
            "|  Bird-Man II|      bad|           1|       1|    1|         1|    0|     1|    5|\n",
            "| Black Abbott|      bad|           1|       1|    1|         1|    0|     1|    5|\n",
            "|   Black Adam|      bad|          88|     100|   92|       100|   89|    56|  525|\n",
            "+-------------+---------+------------+--------+-----+----------+-----+------+-----+\n",
            "only showing top 20 rows\n",
            "\n"
          ]
        }
      ]
    },
    {
      "cell_type": "code",
      "source": [
        "villains.limit(5).show()"
      ],
      "metadata": {
        "colab": {
          "base_uri": "https://localhost:8080/"
        },
        "id": "ZGcl3mdWDYSC",
        "outputId": "ecb04d89-a6e7-47dc-f8e0-c1726cdafef0"
      },
      "execution_count": 19,
      "outputs": [
        {
          "output_type": "stream",
          "name": "stdout",
          "text": [
            "+-----------+---------+------------+--------+-----+----------+-----+------+-----+\n",
            "|       Name|Alignment|Intelligence|Strength|Speed|Durability|Power|Combat|Total|\n",
            "+-----------+---------+------------+--------+-----+----------+-----+------+-----+\n",
            "|Abomination|      bad|          63|      80|   53|        90|   55|    95|  436|\n",
            "|    Abraxas|      bad|          88|     100|   83|        99|  100|    56|  526|\n",
            "| Air-Walker|      bad|          50|      85|  100|        85|  100|    40|  460|\n",
            "|      Amazo|      bad|          75|     100|  100|       100|  100|   100|  575|\n",
            "|       Ammo|      bad|           1|       1|    1|         1|    0|     1|    5|\n",
            "+-----------+---------+------------+--------+-----+----------+-----+------+-----+\n",
            "\n"
          ]
        }
      ]
    },
    {
      "cell_type": "code",
      "source": [
        "#Show top five fastest super villains in terms of super speed\n",
        "top5_villain_speed = villains.orderBy('Speed', ascending = False)\n",
        "top5_villain_speed.limit(5).show()"
      ],
      "metadata": {
        "colab": {
          "base_uri": "https://localhost:8080/"
        },
        "id": "jWoaRN-ZDeuQ",
        "outputId": "248d7282-b31f-4dfc-9b13-9b41c12e9d2f"
      },
      "execution_count": 20,
      "outputs": [
        {
          "output_type": "stream",
          "name": "stdout",
          "text": [
            "+--------------+---------+------------+--------+-----+----------+-----+------+-----+\n",
            "|          Name|Alignment|Intelligence|Strength|Speed|Durability|Power|Combat|Total|\n",
            "+--------------+---------+------------+--------+-----+----------+-----+------+-----+\n",
            "|    Air-Walker|      bad|          50|      85|  100|        85|  100|    40|  460|\n",
            "|         Amazo|      bad|          75|     100|  100|       100|  100|   100|  575|\n",
            "|Superboy-Prime|      bad|          94|     100|  100|       100|  100|    85|  579|\n",
            "|          Zoom|      bad|          50|      10|  100|        28|   72|    28|  288|\n",
            "|   General Zod|      bad|          94|     100|   96|       100|   94|    95|  579|\n",
            "+--------------+---------+------------+--------+-----+----------+-----+------+-----+\n",
            "\n"
          ]
        }
      ]
    },
    {
      "cell_type": "code",
      "source": [
        "#Top five super villains in terms of intelligence\n",
        "top5_villian_intelligence = villains.orderBy('Intelligence', ascending = False)\n",
        "top5_villian_intelligence.limit(5).show()"
      ],
      "metadata": {
        "colab": {
          "base_uri": "https://localhost:8080/"
        },
        "id": "xBC4VsmED1D6",
        "outputId": "5e71fedf-3e17-4a19-d553-7ef1c510e980"
      },
      "execution_count": 21,
      "outputs": [
        {
          "output_type": "stream",
          "name": "stdout",
          "text": [
            "+---------------+---------+------------+--------+-----+----------+-----+------+-----+\n",
            "|           Name|Alignment|Intelligence|Strength|Speed|Durability|Power|Combat|Total|\n",
            "+---------------+---------+------------+--------+-----+----------+-----+------+-----+\n",
            "|Mister Mxyzptlk|      bad|         113|      10|   12|        14|  100|    28|  277|\n",
            "|    Doctor Doom|      bad|         100|      32|   20|       100|   93|    84|  429|\n",
            "|         Leader|      bad|         100|      10|   12|        14|   58|    42|  236|\n",
            "|          Joker|      bad|         100|      10|   12|        56|   22|    90|  290|\n",
            "|           Kang|      bad|         100|      48|   58|        70|   71|    70|  417|\n",
            "+---------------+---------+------------+--------+-----+----------+-----+------+-----+\n",
            "\n"
          ]
        }
      ]
    },
    {
      "cell_type": "code",
      "source": [
        "#Show who is most dangerous super villain after calculating their total (top 5 only)\n",
        "\n",
        "dangerous_villains = villains.orderBy('Total', ascending = False)\\\n",
        "                              .limit(5)\n",
        "dangerous_villains.show()"
      ],
      "metadata": {
        "colab": {
          "base_uri": "https://localhost:8080/"
        },
        "id": "ZAbc26ssELRl",
        "outputId": "82185d69-95a7-4442-ff5e-8d7deeec4dda"
      },
      "execution_count": 23,
      "outputs": [
        {
          "output_type": "stream",
          "name": "stdout",
          "text": [
            "+--------------+---------+------------+--------+-----+----------+-----+------+-----+\n",
            "|          Name|Alignment|Intelligence|Strength|Speed|Durability|Power|Combat|Total|\n",
            "+--------------+---------+------------+--------+-----+----------+-----+------+-----+\n",
            "|Superboy-Prime|      bad|          94|     100|  100|       100|  100|    85|  579|\n",
            "|   General Zod|      bad|          94|     100|   96|       100|   94|    95|  579|\n",
            "|         Amazo|      bad|          75|     100|  100|       100|  100|   100|  575|\n",
            "|      Dormammu|      bad|          88|      95|   83|       100|  100|    80|  546|\n",
            "|      Doomsday|      bad|          88|      80|   67|       120|  100|    90|  545|\n",
            "+--------------+---------+------------+--------+-----+----------+-----+------+-----+\n",
            "\n"
          ]
        }
      ]
    },
    {
      "cell_type": "code",
      "source": [
        "'''Draw a histogram for speed of super heroes having fig size 10.5,\n",
        "  provide speed in histogram for only good alignment superheroes,\n",
        "  title should be \"distribution of speed\", xlabel should be \"speed\" '''\n",
        "\n",
        "values = good_charac.select(\"Speed\").rdd.flatMap(lambda x: x).collect()\n",
        "plt.figure(figsize=(10.5, 6))\n",
        "plt.hist(values, bins = 10, color = 'blue', edgecolor = 'black')\n",
        "\n",
        "plt.title(\"Distribution of speed\")\n",
        "plt.xlabel(\"Speed\")\n",
        "\n",
        "plt.show()"
      ],
      "metadata": {
        "colab": {
          "base_uri": "https://localhost:8080/",
          "height": 564
        },
        "id": "Oa_YTPfUmY_q",
        "outputId": "3c638d8c-c3a3-47f3-e744-8f85232c60a7"
      },
      "execution_count": 35,
      "outputs": [
        {
          "output_type": "display_data",
          "data": {
            "text/plain": [
              "<Figure size 1050x600 with 1 Axes>"
            ],
            "image/png": "[encoded data removed]"
          },
          "metadata": {}
        }
      ]
    },
    {
      "cell_type": "code",
      "source": [
        "'''Draw a histogram for combat of super villains having fig size 10.5,\n",
        " provide combat in histogram for only bad alignment superheroes,\n",
        " title should be \"distribution of combat\", xlabel should be \"combat\" '''\n",
        "\n",
        "values = villains.select(\"Combat\").rdd.flatMap(lambda x: x).collect()\n",
        "plt.figure(figsize=(10.5, 6))\n",
        "plt.hist(values, bins = 10, color = 'blue', edgecolor = 'black')\n",
        "\n",
        "plt.title(\"Distribution of combat\")\n",
        "plt.xlabel(\"Combat\")\n",
        "\n",
        "plt.show()"
      ],
      "metadata": {
        "colab": {
          "base_uri": "https://localhost:8080/",
          "height": 564
        },
        "id": "lS768fW3p5Sa",
        "outputId": "1381c5a0-d506-4f85-99c7-d4c486d7e59c"
      },
      "execution_count": 36,
      "outputs": [
        {
          "output_type": "display_data",
          "data": {
            "text/plain": [
              "<Figure size 1050x600 with 1 Axes>"
            ],
            "image/png": "[encoded data removed]"
          },
          "metadata": {}
        }
      ]
    }
  ]
}